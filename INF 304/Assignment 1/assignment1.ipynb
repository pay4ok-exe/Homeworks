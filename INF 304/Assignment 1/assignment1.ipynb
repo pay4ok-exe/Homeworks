{
 "cells": [
  {
   "cell_type": "markdown",
   "id": "86183450",
   "metadata": {},
   "source": [
    "# Assignment 1\n",
    "**You need to work with numpy library. Write code and perform computations in the cells below. There are nine questions.** "
   ]
  },
  {
   "cell_type": "code",
   "execution_count": 32,
   "id": "8c9a649d",
   "metadata": {},
   "outputs": [],
   "source": [
    "import numpy as np"
   ]
  },
  {
   "cell_type": "markdown",
   "id": "2ef87cec",
   "metadata": {},
   "source": [
    "__1. Create a one-dimensional array with 10 elements containing numbers from 1 to 10. Display the sum of all elements and their average value.__"
   ]
  },
  {
   "cell_type": "code",
   "execution_count": 35,
   "id": "88bf4730",
   "metadata": {},
   "outputs": [
    {
     "data": {
      "text/plain": [
       "array([ 1,  2,  3,  4,  5,  6,  7,  8,  9, 10])"
      ]
     },
     "execution_count": 35,
     "metadata": {},
     "output_type": "execute_result"
    }
   ],
   "source": [
    "arr1 = np.arange(1, 11)\n",
    "arr1"
   ]
  },
  {
   "cell_type": "code",
   "execution_count": 37,
   "id": "8a60df7e-0b7c-437f-9749-8e2d48dfc197",
   "metadata": {},
   "outputs": [
    {
     "data": {
      "text/plain": [
       "55"
      ]
     },
     "execution_count": 37,
     "metadata": {},
     "output_type": "execute_result"
    }
   ],
   "source": [
    "sum1 = np.sum(arr1)\n",
    "sum1"
   ]
  },
  {
   "cell_type": "code",
   "execution_count": 39,
   "id": "fde8bf75-6b92-4828-a56d-76488cdf4004",
   "metadata": {},
   "outputs": [
    {
     "data": {
      "text/plain": [
       "5.5"
      ]
     },
     "execution_count": 39,
     "metadata": {},
     "output_type": "execute_result"
    }
   ],
   "source": [
    "avg1 = np.mean(arr1)\n",
    "avg1"
   ]
  },
  {
   "cell_type": "markdown",
   "id": "377f5888",
   "metadata": {},
   "source": [
    "__2. Create an array of numbers from 10 to 50 with a step of 5. Display the elements of the array that are greater than 20 and less than 40.__"
   ]
  },
  {
   "cell_type": "code",
   "execution_count": 42,
   "id": "75eb5e52",
   "metadata": {},
   "outputs": [
    {
     "data": {
      "text/plain": [
       "array([10, 15, 20, 25, 30, 35, 40, 45, 50])"
      ]
     },
     "execution_count": 42,
     "metadata": {},
     "output_type": "execute_result"
    }
   ],
   "source": [
    "arr2 = np.arange(10, 51, 5)\n",
    "arr2"
   ]
  },
  {
   "cell_type": "code",
   "execution_count": 44,
   "id": "6c448298-0a45-4c5a-9485-4a65de5c9a6b",
   "metadata": {},
   "outputs": [
    {
     "data": {
      "text/plain": [
       "array([25, 30, 35])"
      ]
     },
     "execution_count": 44,
     "metadata": {},
     "output_type": "execute_result"
    }
   ],
   "source": [
    "arr2[(arr2 > 20) & (arr2 < 40)]"
   ]
  },
  {
   "cell_type": "markdown",
   "id": "3b3b7e04",
   "metadata": {},
   "source": [
    "__3. Create a 5x5 matrix with row values ranging from 0 to 4__"
   ]
  },
  {
   "cell_type": "code",
   "execution_count": 46,
   "id": "ce7d6e2d",
   "metadata": {},
   "outputs": [
    {
     "data": {
      "text/plain": [
       "array([[0., 1., 2., 3., 4.],\n",
       "       [0., 1., 2., 3., 4.],\n",
       "       [0., 1., 2., 3., 4.],\n",
       "       [0., 1., 2., 3., 4.],\n",
       "       [0., 1., 2., 3., 4.]])"
      ]
     },
     "execution_count": 46,
     "metadata": {},
     "output_type": "execute_result"
    }
   ],
   "source": [
    "arr3 = np.zeros((5, 5)) + np.arange(5)\n",
    "arr3"
   ]
  },
  {
   "cell_type": "markdown",
   "id": "38de63f1",
   "metadata": {},
   "source": [
    "__4. Create a random vector of size 10 and sort it__"
   ]
  },
  {
   "cell_type": "code",
   "execution_count": 49,
   "id": "0da4b6db",
   "metadata": {},
   "outputs": [
    {
     "data": {
      "text/plain": [
       "array([0.02566389, 0.09139637, 0.13756762, 0.24201154, 0.33992175,\n",
       "       0.40703118, 0.42610807, 0.52897186, 0.58910097, 0.75063069])"
      ]
     },
     "execution_count": 49,
     "metadata": {},
     "output_type": "execute_result"
    }
   ],
   "source": [
    "arr4 = np.sort(np.random.rand(10))\n",
    "arr4"
   ]
  },
  {
   "cell_type": "markdown",
   "id": "d2563b26",
   "metadata": {},
   "source": [
    "__5. Create a 3x3 two-dimensional array filled with random numbers. Multiply it by a scalar 2 and display the result.__"
   ]
  },
  {
   "cell_type": "code",
   "execution_count": 54,
   "id": "e7bdb4e5",
   "metadata": {},
   "outputs": [
    {
     "data": {
      "text/plain": [
       "array([[0.41362239, 0.53245244, 0.24251909],\n",
       "       [1.60849742, 1.63279306, 0.26130252],\n",
       "       [1.47835431, 0.49768936, 1.92808096]])"
      ]
     },
     "execution_count": 54,
     "metadata": {},
     "output_type": "execute_result"
    }
   ],
   "source": [
    "arr5 = np.random.rand(3,3) * 2\n",
    "arr5"
   ]
  },
  {
   "cell_type": "markdown",
   "id": "7595cab2",
   "metadata": {},
   "source": [
    "__6. Consider two random array A and B, check if they are equal__"
   ]
  },
  {
   "cell_type": "code",
   "execution_count": 57,
   "id": "43ee2023",
   "metadata": {},
   "outputs": [
    {
     "name": "stdout",
     "output_type": "stream",
     "text": [
      "[0.41609437 0.80924921 0.1690109  0.00359777 0.65493416 0.32674858\n",
      " 0.94105009 0.59671374 0.69889523 0.0701504 ]\n",
      "[0.60341137 0.80458244 0.39270505 0.74314273 0.31453847 0.94693679\n",
      " 0.40797362 0.08614424 0.91787515 0.77858151]\n"
     ]
    },
    {
     "data": {
      "text/plain": [
       "False"
      ]
     },
     "execution_count": 57,
     "metadata": {},
     "output_type": "execute_result"
    }
   ],
   "source": [
    "arr6_A = np.random.rand(10)\n",
    "arr6_B = np.random.rand(10)\n",
    "print(arr6_A)\n",
    "print(arr6_B)\n",
    "np.array_equal(arr6_A, arr6_B)"
   ]
  },
  {
   "cell_type": "markdown",
   "id": "a960a041",
   "metadata": {},
   "source": [
    "__7. Create a random matrix and swap two rows of an array?__"
   ]
  },
  {
   "cell_type": "code",
   "execution_count": 60,
   "id": "11e22949",
   "metadata": {},
   "outputs": [
    {
     "data": {
      "text/plain": [
       "array([[0.73718118, 0.5504097 , 0.97765826, 0.09116691, 0.45886756],\n",
       "       [0.6214208 , 0.06939626, 0.30473421, 0.98648084, 0.25950966],\n",
       "       [0.29121868, 0.92517666, 0.22479052, 0.33460432, 0.28633082],\n",
       "       [0.9904241 , 0.48101756, 0.71744413, 0.25411886, 0.93608169],\n",
       "       [0.03018112, 0.52001219, 0.57163669, 0.32257101, 0.48307075]])"
      ]
     },
     "execution_count": 60,
     "metadata": {},
     "output_type": "execute_result"
    }
   ],
   "source": [
    "arr7 = np.random.rand(5,5)\n",
    "arr7"
   ]
  },
  {
   "cell_type": "code",
   "execution_count": 11,
   "id": "268b43c0-b73f-40a4-861b-23627d702a9d",
   "metadata": {},
   "outputs": [
    {
     "data": {
      "text/plain": [
       "array([[0.94160335, 0.12108892, 0.81945632, 0.45979315, 0.35949115],\n",
       "       [0.58583276, 0.83673556, 0.44109779, 0.85935643, 0.13113911],\n",
       "       [0.54343897, 0.28028122, 0.86260807, 0.36088387, 0.09032512],\n",
       "       [0.41959015, 0.08569753, 0.37964362, 0.13846197, 0.53867322],\n",
       "       [0.31260264, 0.87632514, 0.68913713, 0.6189627 , 0.482598  ]])"
      ]
     },
     "execution_count": 11,
     "metadata": {},
     "output_type": "execute_result"
    }
   ],
   "source": [
    "temp7 = arr7[0].copy()\n",
    "arr7[0] = arr7[1]\n",
    "arr7[1] = temp7\n",
    "arr7"
   ]
  },
  {
   "cell_type": "markdown",
   "id": "d792251d",
   "metadata": {},
   "source": [
    "__8. Create two matrices of size 2x2: one with values from 1 to 4, and the other from 5 to 8. Find the sum and the product of these matrices.__"
   ]
  },
  {
   "cell_type": "code",
   "execution_count": 14,
   "id": "1183e9d3",
   "metadata": {},
   "outputs": [
    {
     "name": "stdout",
     "output_type": "stream",
     "text": [
      "[[1 2]\n",
      " [3 4]]\n",
      "[[5 6]\n",
      " [7 8]]\n"
     ]
    }
   ],
   "source": [
    "arr8_1 = np.array([[1, 2], [3, 4]])\n",
    "arr8_2 = np.array([[5, 6], [7, 8]])\n",
    "print(arr8_1)\n",
    "print(arr8_2)"
   ]
  },
  {
   "cell_type": "code",
   "execution_count": 29,
   "id": "b5a51efe-8903-4935-96a5-2fde403997a6",
   "metadata": {},
   "outputs": [
    {
     "data": {
      "text/plain": [
       "array([[ 6,  8],\n",
       "       [10, 12]])"
      ]
     },
     "execution_count": 29,
     "metadata": {},
     "output_type": "execute_result"
    }
   ],
   "source": [
    "# sum8 = arr8_1 + arr8_2\n",
    "sum8 = np.add(arr8_1, arr8_2)\n",
    "sum8"
   ]
  },
  {
   "cell_type": "code",
   "execution_count": 18,
   "id": "6737eecf-a327-4926-b7a2-f96254203a1d",
   "metadata": {},
   "outputs": [
    {
     "data": {
      "text/plain": [
       "array([[ 5, 12],\n",
       "       [21, 32]])"
      ]
     },
     "execution_count": 18,
     "metadata": {},
     "output_type": "execute_result"
    }
   ],
   "source": [
    "product8 = arr8_1 * arr8_2\n",
    "product8"
   ]
  },
  {
   "cell_type": "markdown",
   "id": "c3c5f70c",
   "metadata": {},
   "source": [
    "__9. Create an array of 15 random integers in the range from 1 to 100. Replace all elements greater than 50 with 0.__"
   ]
  },
  {
   "cell_type": "code",
   "execution_count": 21,
   "id": "e838c432",
   "metadata": {},
   "outputs": [
    {
     "data": {
      "text/plain": [
       "array([24,  9, 94, 52, 81, 40,  5,  8, 10, 97, 39,  8, 86, 19, 19])"
      ]
     },
     "execution_count": 21,
     "metadata": {},
     "output_type": "execute_result"
    }
   ],
   "source": [
    "arr9 = np.random.randint(1, 101, 15)\n",
    "arr9"
   ]
  },
  {
   "cell_type": "code",
   "execution_count": 23,
   "id": "cd35930a-9762-4cdb-9109-dbad96a65b2d",
   "metadata": {},
   "outputs": [
    {
     "data": {
      "text/plain": [
       "array([24,  9,  0,  0,  0, 40,  5,  8, 10,  0, 39,  8,  0, 19, 19])"
      ]
     },
     "execution_count": 23,
     "metadata": {},
     "output_type": "execute_result"
    }
   ],
   "source": [
    "arr9[arr9 > 50] = 0\n",
    "arr9"
   ]
  },
  {
   "cell_type": "code",
   "execution_count": null,
   "id": "e4004894-410d-4e91-a53f-c069275b208b",
   "metadata": {},
   "outputs": [],
   "source": []
  }
 ],
 "metadata": {
  "kernelspec": {
   "display_name": "Python 3 (ipykernel)",
   "language": "python",
   "name": "python3"
  },
  "language_info": {
   "codemirror_mode": {
    "name": "ipython",
    "version": 3
   },
   "file_extension": ".py",
   "mimetype": "text/x-python",
   "name": "python",
   "nbconvert_exporter": "python",
   "pygments_lexer": "ipython3",
   "version": "3.12.4"
  }
 },
 "nbformat": 4,
 "nbformat_minor": 5
}
